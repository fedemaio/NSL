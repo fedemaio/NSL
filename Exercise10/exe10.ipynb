{
 "cells": [
  {
   "cell_type": "markdown",
   "metadata": {},
   "source": [
    "## <span style=\"color:navy\">  Exercises 10 - Optimization techniques</span>\n"
   ]
  },
  {
   "cell_type": "markdown",
   "metadata": {},
   "source": [
    "Last time we employed the Genetic Algorithm as optimization technique to explore the global optimum of the Travelling Salesman Problem. This time we are asked to implement one of two other metheuristic methods: the simulated annealing and the parallel tempeting."
   ]
  },
  {
   "cell_type": "markdown",
   "metadata": {},
   "source": [
    "## 10.1 - Parallel Tempering"
   ]
  },
  {
   "cell_type": "markdown",
   "metadata": {},
   "source": [
    "The basic idea of PT is to perform the same simulation in parallel with multiple nodes, changing input data, in order to better explore the space of configurations and the evolution of the algorithm. The purpose is to reach the global optimum avoiding to be trapped in some metastable configuration."
   ]
  },
  {
   "cell_type": "markdown",
   "metadata": {},
   "source": [
    "Starting from your Genetic Algorithm code implement a **Parallel Tempering algorithm** (Simulated Annealing with many temperatures). Parallelize with MPI libraries your algorithm in order to solve the TSP where each computing node, up to 11, is characterized by a different temperature or a limited set of temperatures (if you need more than 11 temperatures). Use your genetic operators (except crossover) as trial moves for the Metropolis algorithm and **add a trial move that proposes an exchange of paths among adjacent temperatures (nodes)**. The candidate solution of the TSP will appear on the node with the lower temperature."
   ]
  },
  {
   "cell_type": "markdown",
   "metadata": {},
   "source": [
    "## 10.2"
   ]
  },
  {
   "cell_type": "markdown",
   "metadata": {},
   "source": [
    "Apply your parallel code to the TSP problem for 110 italian \"capoluoghi di provincia\" longitude and latitude coordinates in the *cap_prov_ita.dat* file."
   ]
  },
  {
   "cell_type": "code",
   "execution_count": 2,
   "metadata": {},
   "outputs": [
    {
     "ename": "ModuleNotFoundError",
     "evalue": "No module named 'numpy'",
     "output_type": "error",
     "traceback": [
      "\u001b[0;31m---------------------------------------------------------------------------\u001b[0m",
      "\u001b[0;31mModuleNotFoundError\u001b[0m                       Traceback (most recent call last)",
      "Cell \u001b[0;32mIn[2], line 1\u001b[0m\n\u001b[0;32m----> 1\u001b[0m \u001b[38;5;28;01mimport\u001b[39;00m \u001b[38;5;21;01mnumpy\u001b[39;00m \u001b[38;5;28;01mas\u001b[39;00m \u001b[38;5;21;01mnp\u001b[39;00m\n\u001b[1;32m      2\u001b[0m \u001b[38;5;28;01mimport\u001b[39;00m \u001b[38;5;21;01mmatplotlib\u001b[39;00m\u001b[38;5;21;01m.\u001b[39;00m\u001b[38;5;21;01mpyplot\u001b[39;00m \u001b[38;5;28;01mas\u001b[39;00m \u001b[38;5;21;01mplt\u001b[39;00m\n\u001b[1;32m      5\u001b[0m \u001b[38;5;28;01mfor\u001b[39;00m num_processors \u001b[38;5;129;01min\u001b[39;00m [\u001b[38;5;241m4\u001b[39m, \u001b[38;5;241m6\u001b[39m, \u001b[38;5;241m8\u001b[39m]:\n",
      "\u001b[0;31mModuleNotFoundError\u001b[0m: No module named 'numpy'"
     ]
    }
   ],
   "source": [
    "import numpy as np\n",
    "import matplotlib.pyplot as plt\n",
    "\n",
    "\n",
    "for num_processors in [4, 6, 8]:\n",
    "    fig, axes = plt.subplots(1, 2, figsize=(15, 8))\n",
    "    \n",
    "    for i, flag_value in enumerate([\"FALSE\", \"TRUE\"]):\n",
    "        with open(f'coordinates_{num_processors}_{flag_value}.out', 'r') as file:\n",
    "            lines = file.readlines()\n",
    "\n",
    "        data = np.loadtxt(lines[:-1])\n",
    "\n",
    "        x = data[:, 1]\n",
    "        y = data[:, 2]\n",
    "\n",
    "       \n",
    "     \n",
    "        if(flag_value == \"TRUE\"):\n",
    "            axes[i].set_title(f'Best path with {num_processors} communicating processors', fontsize=14)\n",
    "        elif flag_value == \"FALSE\":\n",
    "            axes[i].set_title(f'Best path with {num_processors} non-communicating processors', fontsize=14)\n",
    "        axes[i].set_xlabel('X')\n",
    "        axes[i].set_ylabel('Y')\n",
    "        axes[i].legend()\n",
    "        axes[i].grid(True)\n",
    "    \n",
    "        best_length = float(lines[-1].split()[0])\n",
    "        axes[i].text(0.5, -0.1, f'Best length: {best_length}', horizontalalignment='center', verticalalignment='center', transform=axes[i].transAxes, fontsize=12, fontweight='bold')\n",
    "\n",
    "    plt.tight_layout()\n",
    "    plt.show()"
   ]
  }
 ],
 "metadata": {
  "kernelspec": {
   "display_name": ".venv",
   "language": "python",
   "name": "python3"
  },
  "language_info": {
   "codemirror_mode": {
    "name": "ipython",
    "version": 3
   },
   "file_extension": ".py",
   "mimetype": "text/x-python",
   "name": "python",
   "nbconvert_exporter": "python",
   "pygments_lexer": "ipython3",
   "version": "3.10.12"
  }
 },
 "nbformat": 4,
 "nbformat_minor": 2
}
